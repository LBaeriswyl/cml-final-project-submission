{
  "nbformat": 4,
  "nbformat_minor": 0,
  "metadata": {
    "colab": {
      "provenance": [],
      "gpuType": "V100"
    },
    "kernelspec": {
      "name": "python3",
      "display_name": "Python 3"
    },
    "language_info": {
      "name": "python"
    },
    "accelerator": "GPU"
  },
  "cells": [
    {
      "cell_type": "markdown",
      "source": [
        "# README\n",
        "Make a shortcut in your drive to the shared cml folder."
      ],
      "metadata": {
        "id": "3IL9C6s8vciT"
      }
    },
    {
      "cell_type": "code",
      "source": [
        "# from google.colab import drive\n",
        "# drive.mount('/content/drive')\n",
        "!git clone https://github.com/huggingface/diffusers\n",
        "%cd diffusers\n",
        "!pip install .\n",
        "%cd examples/text_to_image/\n",
        "!pip install -r requirements.txt\n",
        "!pip install wandb\n",
        "!pip install lycoris_lora\n",
        "!pip install gputil\n",
        "!pip install bitsandbytes==0.40.0\n",
        "!pip install einops\n",
        "!pip install voluptuous\n",
        "!pip install gputil\n"
      ],
      "metadata": {
        "id": "gt0Nj-mqFlux"
      },
      "execution_count": null,
      "outputs": []
    },
    {
      "cell_type": "code",
      "source": [
        "%env MODEL_NAME=runwayml/stable-diffusion-v1-5\n",
        "\n",
        "%env OUTPUT_DIR=/content/pokemon\n",
        "%env HUB_MODEL_ID=zukisan/pokemon-lora\n",
        "%env DATASET_NAME=lambdalabs/pokemon-blip-captions\n",
        "\n",
        "!accelerate launch train_network.py \\\n",
        "--dataset_name $DATASET_NAME \\\n",
        "--config_file configs/lora_config.toml \\"
      ],
      "metadata": {
        "id": "JK4cVsrqFZwz"
      },
      "execution_count": null,
      "outputs": []
    }
  ]
}